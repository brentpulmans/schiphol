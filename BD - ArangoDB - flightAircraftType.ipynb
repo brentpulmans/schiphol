{
 "cells": [
  {
   "cell_type": "markdown",
   "metadata": {},
   "source": [
    "# Data cleaning"
   ]
  },
  {
   "cell_type": "markdown",
   "metadata": {},
   "source": [
    "Om de gegevens van Schiphol bruikbaar te maken voor ArangoDB, moet er voor gezorgd worden dat de kolom 'id' wordt hernoemd '\\_id', maar ook dat er een kolom '\\_to' wordt voorzien bij zogenaamde edges Deze kolom bevat de verwijzing naar waar deze edge connecteert. Optioneel kan ook een kolom '\\_from' voorzien worden indien het gaat om een zuivere associatietabel of indien er voor 'tweerichtingsverkeer' gekozen wordt"
   ]
  },
  {
   "cell_type": "code",
   "execution_count": 1,
   "metadata": {
    "collapsed": true
   },
   "outputs": [],
   "source": [
    "# imports\n",
    "import pandas as pd\n",
    "import numpy as np"
   ]
  },
  {
   "cell_type": "markdown",
   "metadata": {},
   "source": [
    "## Data inladen"
   ]
  },
  {
   "cell_type": "code",
   "execution_count": 2,
   "metadata": {
    "scrolled": true
   },
   "outputs": [
    {
     "data": {
      "text/html": [
       "<div>\n",
       "<style>\n",
       "    .dataframe thead tr:only-child th {\n",
       "        text-align: right;\n",
       "    }\n",
       "\n",
       "    .dataframe thead th {\n",
       "        text-align: left;\n",
       "    }\n",
       "\n",
       "    .dataframe tbody tr th {\n",
       "        vertical-align: top;\n",
       "    }\n",
       "</style>\n",
       "<table border=\"1\" class=\"dataframe\">\n",
       "  <thead>\n",
       "    <tr style=\"text-align: right;\">\n",
       "      <th></th>\n",
       "      <th>id</th>\n",
       "      <th>flightId</th>\n",
       "      <th>iatamain</th>\n",
       "      <th>iatasub</th>\n",
       "    </tr>\n",
       "  </thead>\n",
       "  <tbody>\n",
       "    <tr>\n",
       "      <th>0</th>\n",
       "      <td>1</td>\n",
       "      <td>1</td>\n",
       "      <td>320</td>\n",
       "      <td>320</td>\n",
       "    </tr>\n",
       "    <tr>\n",
       "      <th>1</th>\n",
       "      <td>2</td>\n",
       "      <td>2</td>\n",
       "      <td>73H</td>\n",
       "      <td>73H</td>\n",
       "    </tr>\n",
       "    <tr>\n",
       "      <th>2</th>\n",
       "      <td>3</td>\n",
       "      <td>3</td>\n",
       "      <td>73H</td>\n",
       "      <td>73H</td>\n",
       "    </tr>\n",
       "    <tr>\n",
       "      <th>3</th>\n",
       "      <td>4</td>\n",
       "      <td>4</td>\n",
       "      <td>73H</td>\n",
       "      <td>73H</td>\n",
       "    </tr>\n",
       "    <tr>\n",
       "      <th>4</th>\n",
       "      <td>5</td>\n",
       "      <td>5</td>\n",
       "      <td>320</td>\n",
       "      <td>320</td>\n",
       "    </tr>\n",
       "  </tbody>\n",
       "</table>\n",
       "</div>"
      ],
      "text/plain": [
       "   id  flightId iatamain iatasub\n",
       "0   1         1      320     320\n",
       "1   2         2      73H     73H\n",
       "2   3         3      73H     73H\n",
       "3   4         4      73H     73H\n",
       "4   5         5      320     320"
      ]
     },
     "execution_count": 2,
     "metadata": {},
     "output_type": "execute_result"
    }
   ],
   "source": [
    "df = pd.read_csv(\"C:/Users/bmpka/Documents/Thomas More/3 BIT/Big Data/Schiphol/downloads/flightAircraftType.csv\")\n",
    "df.head() #Show the top 5 rows"
   ]
  },
  {
   "cell_type": "markdown",
   "metadata": {},
   "source": [
    "## Kolom id hernoemen\n",
    "De kolom id wordt hernoemd naar \\_key, zodat ArangoDB ermee kan werken."
   ]
  },
  {
   "cell_type": "code",
   "execution_count": 3,
   "metadata": {},
   "outputs": [
    {
     "data": {
      "text/html": [
       "<div>\n",
       "<style>\n",
       "    .dataframe thead tr:only-child th {\n",
       "        text-align: right;\n",
       "    }\n",
       "\n",
       "    .dataframe thead th {\n",
       "        text-align: left;\n",
       "    }\n",
       "\n",
       "    .dataframe tbody tr th {\n",
       "        vertical-align: top;\n",
       "    }\n",
       "</style>\n",
       "<table border=\"1\" class=\"dataframe\">\n",
       "  <thead>\n",
       "    <tr style=\"text-align: right;\">\n",
       "      <th></th>\n",
       "      <th>_key</th>\n",
       "      <th>flightId</th>\n",
       "      <th>iatamain</th>\n",
       "      <th>iatasub</th>\n",
       "    </tr>\n",
       "  </thead>\n",
       "  <tbody>\n",
       "    <tr>\n",
       "      <th>0</th>\n",
       "      <td>1</td>\n",
       "      <td>1</td>\n",
       "      <td>320</td>\n",
       "      <td>320</td>\n",
       "    </tr>\n",
       "    <tr>\n",
       "      <th>1</th>\n",
       "      <td>2</td>\n",
       "      <td>2</td>\n",
       "      <td>73H</td>\n",
       "      <td>73H</td>\n",
       "    </tr>\n",
       "    <tr>\n",
       "      <th>2</th>\n",
       "      <td>3</td>\n",
       "      <td>3</td>\n",
       "      <td>73H</td>\n",
       "      <td>73H</td>\n",
       "    </tr>\n",
       "    <tr>\n",
       "      <th>3</th>\n",
       "      <td>4</td>\n",
       "      <td>4</td>\n",
       "      <td>73H</td>\n",
       "      <td>73H</td>\n",
       "    </tr>\n",
       "    <tr>\n",
       "      <th>4</th>\n",
       "      <td>5</td>\n",
       "      <td>5</td>\n",
       "      <td>320</td>\n",
       "      <td>320</td>\n",
       "    </tr>\n",
       "  </tbody>\n",
       "</table>\n",
       "</div>"
      ],
      "text/plain": [
       "   _key  flightId iatamain iatasub\n",
       "0     1         1      320     320\n",
       "1     2         2      73H     73H\n",
       "2     3         3      73H     73H\n",
       "3     4         4      73H     73H\n",
       "4     5         5      320     320"
      ]
     },
     "execution_count": 3,
     "metadata": {},
     "output_type": "execute_result"
    }
   ],
   "source": [
    "df=df.rename(columns = {'id':'_key'})\n",
    "df.head() #Show the top 5 rows"
   ]
  },
  {
   "cell_type": "markdown",
   "metadata": {},
   "source": [
    "## flightId omzetten naar _to\n",
    "ArangoDB heeft een kolom \\_to nodig om relaties te kunnen leggen. In die kolom moet het id komen van het document waarnaar het verwijst. Dat betekent dus eerst de naam van de collectie (bijvoorbeeld flight), gevolgd door een schuine streep en daarna het id van dat specifieke document.\n",
    "\n",
    "Om de kolom flightId te kunnen gebruiken voor de aanmaak van de nieuwe kolom \\_to, moet deze wel eerst omgezet worden naar het type string."
   ]
  },
  {
   "cell_type": "code",
   "execution_count": 4,
   "metadata": {},
   "outputs": [
    {
     "data": {
      "text/html": [
       "<div>\n",
       "<style>\n",
       "    .dataframe thead tr:only-child th {\n",
       "        text-align: right;\n",
       "    }\n",
       "\n",
       "    .dataframe thead th {\n",
       "        text-align: left;\n",
       "    }\n",
       "\n",
       "    .dataframe tbody tr th {\n",
       "        vertical-align: top;\n",
       "    }\n",
       "</style>\n",
       "<table border=\"1\" class=\"dataframe\">\n",
       "  <thead>\n",
       "    <tr style=\"text-align: right;\">\n",
       "      <th></th>\n",
       "      <th>_key</th>\n",
       "      <th>flightId</th>\n",
       "      <th>iatamain</th>\n",
       "      <th>iatasub</th>\n",
       "      <th>_to</th>\n",
       "      <th>_from</th>\n",
       "    </tr>\n",
       "  </thead>\n",
       "  <tbody>\n",
       "    <tr>\n",
       "      <th>0</th>\n",
       "      <td>1</td>\n",
       "      <td>1</td>\n",
       "      <td>320</td>\n",
       "      <td>320</td>\n",
       "      <td>BDflight/1</td>\n",
       "      <td>BDflight/1</td>\n",
       "    </tr>\n",
       "    <tr>\n",
       "      <th>1</th>\n",
       "      <td>2</td>\n",
       "      <td>2</td>\n",
       "      <td>73H</td>\n",
       "      <td>73H</td>\n",
       "      <td>BDflight/2</td>\n",
       "      <td>BDflight/2</td>\n",
       "    </tr>\n",
       "    <tr>\n",
       "      <th>2</th>\n",
       "      <td>3</td>\n",
       "      <td>3</td>\n",
       "      <td>73H</td>\n",
       "      <td>73H</td>\n",
       "      <td>BDflight/3</td>\n",
       "      <td>BDflight/3</td>\n",
       "    </tr>\n",
       "    <tr>\n",
       "      <th>3</th>\n",
       "      <td>4</td>\n",
       "      <td>4</td>\n",
       "      <td>73H</td>\n",
       "      <td>73H</td>\n",
       "      <td>BDflight/4</td>\n",
       "      <td>BDflight/4</td>\n",
       "    </tr>\n",
       "    <tr>\n",
       "      <th>4</th>\n",
       "      <td>5</td>\n",
       "      <td>5</td>\n",
       "      <td>320</td>\n",
       "      <td>320</td>\n",
       "      <td>BDflight/5</td>\n",
       "      <td>BDflight/5</td>\n",
       "    </tr>\n",
       "  </tbody>\n",
       "</table>\n",
       "</div>"
      ],
      "text/plain": [
       "   _key  flightId iatamain iatasub         _to       _from\n",
       "0     1         1      320     320  BDflight/1  BDflight/1\n",
       "1     2         2      73H     73H  BDflight/2  BDflight/2\n",
       "2     3         3      73H     73H  BDflight/3  BDflight/3\n",
       "3     4         4      73H     73H  BDflight/4  BDflight/4\n",
       "4     5         5      320     320  BDflight/5  BDflight/5"
      ]
     },
     "execution_count": 4,
     "metadata": {},
     "output_type": "execute_result"
    }
   ],
   "source": [
    "df['_to'] = 'BDflight/' + df['flightId'].astype(str)\n",
    "df['_from'] = 'BDflight/' + df['flightId'].astype(str)\n",
    "df.head() #Show the top 5 rows"
   ]
  },
  {
   "cell_type": "code",
   "execution_count": 5,
   "metadata": {
    "collapsed": true
   },
   "outputs": [],
   "source": [
    "df.to_csv('C:/Users/bmpka/Documents/Thomas More/3 BIT/Big Data/Schiphol/downloads/flightAircraftType-v2.csv')"
   ]
  },
  {
   "cell_type": "code",
   "execution_count": null,
   "metadata": {
    "collapsed": true
   },
   "outputs": [],
   "source": []
  }
 ],
 "metadata": {
  "kernelspec": {
   "display_name": "Python 3",
   "language": "python",
   "name": "python3"
  },
  "language_info": {
   "codemirror_mode": {
    "name": "ipython",
    "version": 3
   },
   "file_extension": ".py",
   "mimetype": "text/x-python",
   "name": "python",
   "nbconvert_exporter": "python",
   "pygments_lexer": "ipython3",
   "version": "3.6.3"
  }
 },
 "nbformat": 4,
 "nbformat_minor": 2
}
